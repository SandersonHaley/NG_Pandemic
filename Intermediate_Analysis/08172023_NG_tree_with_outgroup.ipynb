{
 "cells": [
  {
   "cell_type": "code",
   "execution_count": 1,
   "id": "5929da21",
   "metadata": {},
   "outputs": [],
   "source": [
    "import os\n",
    "from ete3 import Tree\n",
    "from ete3 import PhyloTree\n",
    "from ete3 import TreeStyle\n",
    "from ete3 import *\n",
    "import re\n",
    "import csv\n",
    "import pandas as pd"
   ]
  },
  {
   "cell_type": "code",
   "execution_count": 2,
   "id": "e38875e1",
   "metadata": {},
   "outputs": [
    {
     "name": "stderr",
     "output_type": "stream",
     "text": [
      "Warning: Ignoring XDG_SESSION_TYPE=wayland on Gnome. Use QT_QPA_PLATFORM=wayland to run on Wayland anyway.\n"
     ]
    }
   ],
   "source": [
    "t2= open('NG_2017-2022_Panaroo/NG_2017-2022_Panaroo_2/NG_2017-2022.treefile','rt').read()\n",
    "pattern1 = re.compile(r'\\/\\d*')\n",
    "test_altered = re.sub(pattern1, \"\", t2)\n",
    "#print(test_altered)\n",
    "t3=Tree(test_altered, format=0)\n",
    "t3.set_outgroup('Neisseria_meningitidis')\n",
    "ts = TreeStyle()\n",
    "ts.mode = \"c\"\n",
    "ts.scale = 10\n",
    "ts.show_leaf_name = True\n",
    "ts.show_scale = False\n",
    "ts.show_branch_length = True\n",
    "ts.show_branch_support = True\n",
    "t3.show(tree_style = ts)\n",
    "t3.render(\"11182023_NG_tree_with_outgroup.jpeg\", dpi=600, w= 1000, tree_style=ts)\n",
    "t3.write(format=1, outfile=\"11262023_NG_tree_with_Outgroup.nw\")\n"
   ]
  },
  {
   "cell_type": "code",
   "execution_count": null,
   "id": "fc91ea5c",
   "metadata": {},
   "outputs": [],
   "source": []
  }
 ],
 "metadata": {
  "kernelspec": {
   "display_name": "Python 3 (ipykernel)",
   "language": "python",
   "name": "python3"
  },
  "language_info": {
   "codemirror_mode": {
    "name": "ipython",
    "version": 3
   },
   "file_extension": ".py",
   "mimetype": "text/x-python",
   "name": "python",
   "nbconvert_exporter": "python",
   "pygments_lexer": "ipython3",
   "version": "3.9.16"
  }
 },
 "nbformat": 4,
 "nbformat_minor": 5
}
